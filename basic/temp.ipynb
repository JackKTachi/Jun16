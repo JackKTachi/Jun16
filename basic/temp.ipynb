{
 "cells": [
  {
   "cell_type": "code",
   "execution_count": 2,
   "metadata": {},
   "outputs": [],
   "source": [
    "import pyspedas"
   ]
  },
  {
   "cell_type": "code",
   "execution_count": 3,
   "metadata": {},
   "outputs": [
    {
     "name": "stderr",
     "output_type": "stream",
     "text": [
      "15-Jun-23 15:33:17: Downloading remote index: https://ergsc.isee.nagoya-u.ac.jp/data/ergsc/satellite/erg/pwe/ofa/l2/spec/2017/03/\n",
      "15-Jun-23 15:33:17: Downloading https://ergsc.isee.nagoya-u.ac.jp/data/ergsc/satellite/erg/pwe/ofa/l2/spec/2017/03/erg_pwe_ofa_l2_spec_20170327_v02_03.cdf to erg_data/satellite/erg/pwe/ofa/l2/spec/2017/03/erg_pwe_ofa_l2_spec_20170327_v02_03.cdf\n",
      "15-Jun-23 15:33:30: Download complete: erg_data/satellite/erg/pwe/ofa/l2/spec/2017/03/erg_pwe_ofa_l2_spec_20170327_v02_03.cdf\n",
      "15-Jun-23 15:33:31: /home/jackkooki/Document/Jun16-1/.venv/lib/python3.10/site-packages/pytplot/importers/cdf_to_tplot.py:310: FutureWarning: elementwise comparison failed; returning scalar instead, but in the future will perform elementwise comparison\n",
      "  if ydata[ydata == var_atts[\"FILLVAL\"]].size != 0:\n",
      "\n"
     ]
    },
    {
     "name": "stdout",
     "output_type": "stream",
     "text": [
      " \n",
      " \n",
      "**************************************************************************\n",
      "Exploration of Energization and Radiation in Geospace (ERG) Plasma Wave Experiment (PWE) Onboard Frequency Analyzer (OFA) Level 2 spectrum data\n",
      "\n",
      "Information about ERG PWE OFA\n",
      "\n",
      "PI:  Yoshiya Kasahara\n",
      "Affiliation: Kanazawa University\n",
      "\n",
      "RoR of ERG project common: https://ergsc.isee.nagoya-u.ac.jp/data_info/rules_of_the_road.shtml.en\n",
      "RoR of PWE/OFA: https://ergsc.isee.nagoya-u.ac.jp/mw/index.php/ErgSat/Pwe/Ofa\n",
      "\n",
      "Contact: erg_pwe_info at isee.nagoya-u.ac.jp\n",
      "**************************************************************************\n"
     ]
    },
    {
     "data": {
      "text/plain": [
       "['erg_pwe_ofa_l2_spec_epoch_e132',\n",
       " 'erg_pwe_ofa_l2_spec_E_spectra_132',\n",
       " 'erg_pwe_ofa_l2_spec_quality_flag_e132',\n",
       " 'erg_pwe_ofa_l2_spec_epoch_b132',\n",
       " 'erg_pwe_ofa_l2_spec_B_spectra_132',\n",
       " 'erg_pwe_ofa_l2_spec_quality_flag_b132']"
      ]
     },
     "execution_count": 3,
     "metadata": {},
     "output_type": "execute_result"
    }
   ],
   "source": [
    "tr = ['2017-03-27', '2017-03-28']\n",
    "\n",
    "from pyspedas.erg import pwe_ofa\n",
    "pwe_ofa(trange = tr)"
   ]
  },
  {
   "cell_type": "code",
   "execution_count": null,
   "metadata": {},
   "outputs": [],
   "source": []
  }
 ],
 "metadata": {
  "kernelspec": {
   "display_name": ".venv",
   "language": "python",
   "name": "python3"
  },
  "language_info": {
   "codemirror_mode": {
    "name": "ipython",
    "version": 3
   },
   "file_extension": ".py",
   "mimetype": "text/x-python",
   "name": "python",
   "nbconvert_exporter": "python",
   "pygments_lexer": "ipython3",
   "version": "3.10.6"
  },
  "orig_nbformat": 4
 },
 "nbformat": 4,
 "nbformat_minor": 2
}
